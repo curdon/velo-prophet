{
 "cells": [
  {
   "cell_type": "markdown",
   "id": "767701ba",
   "metadata": {},
   "source": [
    "## Python Bibliotheken laden\n",
    "Falls einzelne Bibliotheken noch nicht installiert wurden, muss das erst, beispielsweise mit %pip gemacht werden (z.B. %pip install pandas)"
   ]
  },
  {
   "cell_type": "code",
   "execution_count": null,
   "id": "37f232ac",
   "metadata": {},
   "outputs": [],
   "source": [
    "#%pip install prophet"
   ]
  },
  {
   "cell_type": "code",
   "execution_count": 1,
   "id": "7dfcf9e4",
   "metadata": {},
   "outputs": [
    {
     "name": "stderr",
     "output_type": "stream",
     "text": [
      "/Users/derungcu/Library/Python/3.10/lib/python/site-packages/tqdm/auto.py:21: TqdmWarning: IProgress not found. Please update jupyter and ipywidgets. See https://ipywidgets.readthedocs.io/en/stable/user_install.html\n",
      "  from .autonotebook import tqdm as notebook_tqdm\n",
      "Importing plotly failed. Interactive plots will not work.\n"
     ]
    }
   ],
   "source": [
    "import pandas as pd\n",
    "import requests\n",
    "from io import StringIO"
   ]
  },
  {
   "cell_type": "markdown",
   "id": "7a7a74b5",
   "metadata": {},
   "source": [
    "## Velozählungen lesen und zusammenführen\n",
    "\n",
    "Die Velozähldaten werden direkt von OpenData Zürich gelesen. Jedes Jahr liegt als eigenes CSV vor und wird als Pandas Dataframe geladen."
   ]
  },
  {
   "cell_type": "code",
   "execution_count": 10,
   "id": "3b8a137a",
   "metadata": {},
   "outputs": [],
   "source": [
    "# Funktion um CSV mit Velozähldaten für ein Jahr von URL zu lesen\n",
    "def get_velo_data(year):\n",
    "    url = f\"https://data.stadt-zuerich.ch/dataset/ted_taz_verkehrszaehlungen_werte_fussgaenger_velo/download/{year}_verkehrszaehlungen_werte_fussgaenger_velo.csv\"\n",
    "    response = requests.get(url)\n",
    "    response.raise_for_status()  # This will raise an error if the download failed\n",
    "    csv_raw = StringIO(response.text)\n",
    "    df = pd.read_csv(csv_raw)\n",
    "    return df"
   ]
  },
  {
   "cell_type": "code",
   "execution_count": 11,
   "id": "c95d9fda",
   "metadata": {},
   "outputs": [],
   "source": [
    "# CSV lesen\n",
    "velo_23 = get_velo_data(\"2023\")\n",
    "velo_22 = get_velo_data(\"2022\")\n",
    "velo_21 = get_velo_data(\"2021\")\n",
    "\n",
    "# Daten kombiniere\n",
    "velo = pd.concat([velo_21, velo_22, velo_23])"
   ]
  },
  {
   "cell_type": "markdown",
   "id": "54cc63ac",
   "metadata": {},
   "source": [
    "## Standort auswählen"
   ]
  },
  {
   "cell_type": "code",
   "execution_count": 12,
   "id": "d270b184",
   "metadata": {},
   "outputs": [],
   "source": [
    "velo = velo[velo['FK_STANDORT'] == 2989]"
   ]
  },
  {
   "cell_type": "markdown",
   "id": "4f305d86",
   "metadata": {},
   "source": [
    "## Zeitfeld definieren"
   ]
  },
  {
   "cell_type": "code",
   "execution_count": 13,
   "id": "ce7011bc",
   "metadata": {},
   "outputs": [],
   "source": [
    "velo['DATUM'] = pd.to_datetime(velo['DATUM'], format=\"%Y-%m-%dT%H:%M\")"
   ]
  },
  {
   "cell_type": "markdown",
   "id": "76d44b28",
   "metadata": {},
   "source": [
    "## Stundenaggregation"
   ]
  },
  {
   "cell_type": "code",
   "execution_count": 18,
   "id": "ccbc6c52",
   "metadata": {},
   "outputs": [],
   "source": [
    "# Aggregating values per hour\n",
    "velo['DATUM_hour'] = velo['DATUM'].dt.floor('H')\n",
    "velo_hour = velo.groupby('DATUM_hour').agg({'VELO_IN': 'sum', 'VELO_OUT': 'sum'})\n",
    "velo_hour['VELO'] = velo_hour['VELO_IN'] + velo_hour['VELO_OUT']"
   ]
  },
  {
   "cell_type": "markdown",
   "id": "330dc298",
   "metadata": {},
   "source": [
    "## Daten für Prophet vorbereiten"
   ]
  },
  {
   "cell_type": "code",
   "execution_count": 20,
   "id": "279593a4",
   "metadata": {},
   "outputs": [],
   "source": [
    "# Renaming columns for Prophet\n",
    "velo_proph = velo_hour.reset_index().rename(columns={'DATUM_hour': 'ds', 'VELO': 'y'}).drop([\"VELO_IN\", \"VELO_OUT\"], axis=1)"
   ]
  },
  {
   "cell_type": "code",
   "execution_count": 23,
   "id": "eacae443",
   "metadata": {},
   "outputs": [
    {
     "data": {
      "text/html": [
       "<div>\n",
       "<style scoped>\n",
       "    .dataframe tbody tr th:only-of-type {\n",
       "        vertical-align: middle;\n",
       "    }\n",
       "\n",
       "    .dataframe tbody tr th {\n",
       "        vertical-align: top;\n",
       "    }\n",
       "\n",
       "    .dataframe thead th {\n",
       "        text-align: right;\n",
       "    }\n",
       "</style>\n",
       "<table border=\"1\" class=\"dataframe\">\n",
       "  <thead>\n",
       "    <tr style=\"text-align: right;\">\n",
       "      <th></th>\n",
       "      <th>ds</th>\n",
       "      <th>y</th>\n",
       "    </tr>\n",
       "  </thead>\n",
       "  <tbody>\n",
       "    <tr>\n",
       "      <th>0</th>\n",
       "      <td>2021-01-01 00:00:00</td>\n",
       "      <td>22.0</td>\n",
       "    </tr>\n",
       "    <tr>\n",
       "      <th>1</th>\n",
       "      <td>2021-01-01 01:00:00</td>\n",
       "      <td>53.0</td>\n",
       "    </tr>\n",
       "    <tr>\n",
       "      <th>2</th>\n",
       "      <td>2021-01-01 02:00:00</td>\n",
       "      <td>73.0</td>\n",
       "    </tr>\n",
       "    <tr>\n",
       "      <th>3</th>\n",
       "      <td>2021-01-01 03:00:00</td>\n",
       "      <td>53.0</td>\n",
       "    </tr>\n",
       "    <tr>\n",
       "      <th>4</th>\n",
       "      <td>2021-01-01 04:00:00</td>\n",
       "      <td>36.0</td>\n",
       "    </tr>\n",
       "    <tr>\n",
       "      <th>5</th>\n",
       "      <td>2021-01-01 05:00:00</td>\n",
       "      <td>20.0</td>\n",
       "    </tr>\n",
       "    <tr>\n",
       "      <th>6</th>\n",
       "      <td>2021-01-01 06:00:00</td>\n",
       "      <td>23.0</td>\n",
       "    </tr>\n",
       "    <tr>\n",
       "      <th>7</th>\n",
       "      <td>2021-01-01 07:00:00</td>\n",
       "      <td>17.0</td>\n",
       "    </tr>\n",
       "    <tr>\n",
       "      <th>8</th>\n",
       "      <td>2021-01-01 08:00:00</td>\n",
       "      <td>10.0</td>\n",
       "    </tr>\n",
       "    <tr>\n",
       "      <th>9</th>\n",
       "      <td>2021-01-01 09:00:00</td>\n",
       "      <td>20.0</td>\n",
       "    </tr>\n",
       "  </tbody>\n",
       "</table>\n",
       "</div>"
      ],
      "text/plain": [
       "                   ds     y\n",
       "0 2021-01-01 00:00:00  22.0\n",
       "1 2021-01-01 01:00:00  53.0\n",
       "2 2021-01-01 02:00:00  73.0\n",
       "3 2021-01-01 03:00:00  53.0\n",
       "4 2021-01-01 04:00:00  36.0\n",
       "5 2021-01-01 05:00:00  20.0\n",
       "6 2021-01-01 06:00:00  23.0\n",
       "7 2021-01-01 07:00:00  17.0\n",
       "8 2021-01-01 08:00:00  10.0\n",
       "9 2021-01-01 09:00:00  20.0"
      ]
     },
     "execution_count": 23,
     "metadata": {},
     "output_type": "execute_result"
    }
   ],
   "source": [
    "velo_proph.head(10)"
   ]
  },
  {
   "cell_type": "markdown",
   "id": "1db8715b",
   "metadata": {},
   "source": [
    "## Daten speichern"
   ]
  },
  {
   "cell_type": "code",
   "execution_count": 24,
   "id": "a5aee0a8",
   "metadata": {},
   "outputs": [],
   "source": [
    "velo_proph.to_csv(\"../Daten/velozaehldaten_aufbereitet.csv\")"
   ]
  }
 ],
 "metadata": {
  "kernelspec": {
   "display_name": "Python 3",
   "language": "python",
   "name": "python3"
  },
  "language_info": {
   "codemirror_mode": {
    "name": "ipython",
    "version": 3
   },
   "file_extension": ".py",
   "mimetype": "text/x-python",
   "name": "python",
   "nbconvert_exporter": "python",
   "pygments_lexer": "ipython3",
   "version": "3.10.0"
  }
 },
 "nbformat": 4,
 "nbformat_minor": 5
}
